{
 "cells": [
  {
   "cell_type": "code",
   "execution_count": 1,
   "id": "3a3ec259",
   "metadata": {},
   "outputs": [
    {
     "name": "stdout",
     "output_type": "stream",
     "text": [
      "Requirement already satisfied: apyori in /opt/anaconda3/lib/python3.9/site-packages (1.1.2)\n",
      "Note: you may need to restart the kernel to use updated packages.\n"
     ]
    }
   ],
   "source": [
    "pip install apyori"
   ]
  },
  {
   "cell_type": "code",
   "execution_count": 2,
   "id": "6b3e0f4c",
   "metadata": {},
   "outputs": [
    {
     "name": "stdout",
     "output_type": "stream",
     "text": [
      "Requirement already satisfied: plotly in /opt/anaconda3/lib/python3.9/site-packages (5.9.0)\n",
      "Requirement already satisfied: tenacity>=6.2.0 in /opt/anaconda3/lib/python3.9/site-packages (from plotly) (8.0.1)\n",
      "Note: you may need to restart the kernel to use updated packages.\n"
     ]
    }
   ],
   "source": [
    "pip install plotly"
   ]
  },
  {
   "cell_type": "code",
   "execution_count": 3,
   "id": "23407958",
   "metadata": {},
   "outputs": [
    {
     "name": "stdout",
     "output_type": "stream",
     "text": [
      "Requirement already satisfied: mlxtend in /opt/anaconda3/lib/python3.9/site-packages (0.20.0)\n",
      "Requirement already satisfied: numpy>=1.16.2 in /opt/anaconda3/lib/python3.9/site-packages (from mlxtend) (1.20.3)\n",
      "Requirement already satisfied: matplotlib>=3.0.0 in /opt/anaconda3/lib/python3.9/site-packages (from mlxtend) (3.4.3)\n",
      "Requirement already satisfied: setuptools in /opt/anaconda3/lib/python3.9/site-packages (from mlxtend) (58.0.4)\n",
      "Requirement already satisfied: scipy>=1.2.1 in /opt/anaconda3/lib/python3.9/site-packages (from mlxtend) (1.7.1)\n",
      "Requirement already satisfied: scikit-learn>=1.0.2 in /opt/anaconda3/lib/python3.9/site-packages (from mlxtend) (1.1.1)\n",
      "Requirement already satisfied: joblib>=0.13.2 in /opt/anaconda3/lib/python3.9/site-packages (from mlxtend) (1.1.0)\n",
      "Requirement already satisfied: pandas>=0.24.2 in /opt/anaconda3/lib/python3.9/site-packages (from mlxtend) (1.3.4)\n",
      "Requirement already satisfied: kiwisolver>=1.0.1 in /opt/anaconda3/lib/python3.9/site-packages (from matplotlib>=3.0.0->mlxtend) (1.3.1)\n",
      "Requirement already satisfied: python-dateutil>=2.7 in /opt/anaconda3/lib/python3.9/site-packages (from matplotlib>=3.0.0->mlxtend) (2.8.2)\n",
      "Requirement already satisfied: pyparsing>=2.2.1 in /opt/anaconda3/lib/python3.9/site-packages (from matplotlib>=3.0.0->mlxtend) (3.0.4)\n",
      "Requirement already satisfied: cycler>=0.10 in /opt/anaconda3/lib/python3.9/site-packages (from matplotlib>=3.0.0->mlxtend) (0.10.0)\n",
      "Requirement already satisfied: pillow>=6.2.0 in /opt/anaconda3/lib/python3.9/site-packages (from matplotlib>=3.0.0->mlxtend) (8.4.0)\n",
      "Requirement already satisfied: six in /opt/anaconda3/lib/python3.9/site-packages (from cycler>=0.10->matplotlib>=3.0.0->mlxtend) (1.16.0)\n",
      "Requirement already satisfied: pytz>=2017.3 in /opt/anaconda3/lib/python3.9/site-packages (from pandas>=0.24.2->mlxtend) (2021.3)\n",
      "Requirement already satisfied: threadpoolctl>=2.0.0 in /opt/anaconda3/lib/python3.9/site-packages (from scikit-learn>=1.0.2->mlxtend) (2.2.0)\n",
      "Note: you may need to restart the kernel to use updated packages.\n"
     ]
    }
   ],
   "source": [
    "pip install mlxtend"
   ]
  },
  {
   "cell_type": "code",
   "execution_count": 63,
   "id": "2c7057b4",
   "metadata": {},
   "outputs": [],
   "source": [
    "import numpy as np\n",
    "import pandas as pd\n",
    "import matplotlib.pyplot as plt\n",
    "import seaborn as sns\n",
    "import plotly.graph_objects as go\n",
    "import plotly.express as px\n",
    "from mlxtend.frequent_patterns import association_rules, apriori"
   ]
  },
  {
   "cell_type": "code",
   "execution_count": 64,
   "id": "32b73de7",
   "metadata": {},
   "outputs": [
    {
     "data": {
      "text/html": [
       "<div>\n",
       "<style scoped>\n",
       "    .dataframe tbody tr th:only-of-type {\n",
       "        vertical-align: middle;\n",
       "    }\n",
       "\n",
       "    .dataframe tbody tr th {\n",
       "        vertical-align: top;\n",
       "    }\n",
       "\n",
       "    .dataframe thead th {\n",
       "        text-align: right;\n",
       "    }\n",
       "</style>\n",
       "<table border=\"1\" class=\"dataframe\">\n",
       "  <thead>\n",
       "    <tr style=\"text-align: right;\">\n",
       "      <th></th>\n",
       "      <th>Member_number</th>\n",
       "      <th>Date</th>\n",
       "      <th>itemDescription</th>\n",
       "    </tr>\n",
       "  </thead>\n",
       "  <tbody>\n",
       "    <tr>\n",
       "      <th>0</th>\n",
       "      <td>1808</td>\n",
       "      <td>21-07-2015</td>\n",
       "      <td>Tropical fruit</td>\n",
       "    </tr>\n",
       "    <tr>\n",
       "      <th>1</th>\n",
       "      <td>2552</td>\n",
       "      <td>05-01-2015</td>\n",
       "      <td>Whole milk</td>\n",
       "    </tr>\n",
       "    <tr>\n",
       "      <th>2</th>\n",
       "      <td>2300</td>\n",
       "      <td>19-09-2015</td>\n",
       "      <td>Pip fruit</td>\n",
       "    </tr>\n",
       "    <tr>\n",
       "      <th>3</th>\n",
       "      <td>1187</td>\n",
       "      <td>12-12-2015</td>\n",
       "      <td>Other vegetables</td>\n",
       "    </tr>\n",
       "    <tr>\n",
       "      <th>4</th>\n",
       "      <td>3037</td>\n",
       "      <td>01-02-2015</td>\n",
       "      <td>Whole milk</td>\n",
       "    </tr>\n",
       "  </tbody>\n",
       "</table>\n",
       "</div>"
      ],
      "text/plain": [
       "   Member_number        Date   itemDescription\n",
       "0           1808  21-07-2015    Tropical fruit\n",
       "1           2552  05-01-2015        Whole milk\n",
       "2           2300  19-09-2015         Pip fruit\n",
       "3           1187  12-12-2015  Other vegetables\n",
       "4           3037  01-02-2015        Whole milk"
      ]
     },
     "execution_count": 64,
     "metadata": {},
     "output_type": "execute_result"
    }
   ],
   "source": [
    "df = pd.read_csv('Groceries_dataset.csv',index_col=0)\n",
    "df = df.reset_index()\n",
    "df[\"itemDescription\"] = df[\"itemDescription\"].str.capitalize()\n",
    "df.head()"
   ]
  },
  {
   "cell_type": "code",
   "execution_count": 65,
   "id": "91434c13",
   "metadata": {},
   "outputs": [
    {
     "data": {
      "text/plain": [
       "Member_number      0\n",
       "Date               0\n",
       "itemDescription    0\n",
       "dtype: int64"
      ]
     },
     "execution_count": 65,
     "metadata": {},
     "output_type": "execute_result"
    }
   ],
   "source": [
    "df.isnull().sum()"
   ]
  },
  {
   "cell_type": "code",
   "execution_count": 66,
   "id": "26e95403",
   "metadata": {},
   "outputs": [
    {
     "name": "stdout",
     "output_type": "stream",
     "text": [
      "Number of Rows: 38765\n",
      "Number of Columns: 3\n"
     ]
    }
   ],
   "source": [
    "print(\"Number of Rows:\",df.shape[0])\n",
    "print(\"Number of Columns:\",df.shape[1])"
   ]
  },
  {
   "cell_type": "code",
   "execution_count": 67,
   "id": "70fdde5f",
   "metadata": {},
   "outputs": [
    {
     "data": {
      "text/html": [
       "<div>\n",
       "<style scoped>\n",
       "    .dataframe tbody tr th:only-of-type {\n",
       "        vertical-align: middle;\n",
       "    }\n",
       "\n",
       "    .dataframe tbody tr th {\n",
       "        vertical-align: top;\n",
       "    }\n",
       "\n",
       "    .dataframe thead th {\n",
       "        text-align: right;\n",
       "    }\n",
       "</style>\n",
       "<table border=\"1\" class=\"dataframe\">\n",
       "  <thead>\n",
       "    <tr style=\"text-align: right;\">\n",
       "      <th></th>\n",
       "      <th>Member_number</th>\n",
       "      <th>Date</th>\n",
       "      <th>Item</th>\n",
       "    </tr>\n",
       "  </thead>\n",
       "  <tbody>\n",
       "    <tr>\n",
       "      <th>0</th>\n",
       "      <td>1808</td>\n",
       "      <td>21-07-2015</td>\n",
       "      <td>Tropical fruit</td>\n",
       "    </tr>\n",
       "    <tr>\n",
       "      <th>1</th>\n",
       "      <td>2552</td>\n",
       "      <td>05-01-2015</td>\n",
       "      <td>Whole milk</td>\n",
       "    </tr>\n",
       "    <tr>\n",
       "      <th>2</th>\n",
       "      <td>2300</td>\n",
       "      <td>19-09-2015</td>\n",
       "      <td>Pip fruit</td>\n",
       "    </tr>\n",
       "    <tr>\n",
       "      <th>3</th>\n",
       "      <td>1187</td>\n",
       "      <td>12-12-2015</td>\n",
       "      <td>Other vegetables</td>\n",
       "    </tr>\n",
       "    <tr>\n",
       "      <th>4</th>\n",
       "      <td>3037</td>\n",
       "      <td>01-02-2015</td>\n",
       "      <td>Whole milk</td>\n",
       "    </tr>\n",
       "  </tbody>\n",
       "</table>\n",
       "</div>"
      ],
      "text/plain": [
       "   Member_number        Date              Item\n",
       "0           1808  21-07-2015    Tropical fruit\n",
       "1           2552  05-01-2015        Whole milk\n",
       "2           2300  19-09-2015         Pip fruit\n",
       "3           1187  12-12-2015  Other vegetables\n",
       "4           3037  01-02-2015        Whole milk"
      ]
     },
     "execution_count": 67,
     "metadata": {},
     "output_type": "execute_result"
    }
   ],
   "source": [
    "df.rename(columns={\"itemDescription\":\"Item\"},inplace=True)\n",
    "df.head()"
   ]
  },
  {
   "cell_type": "markdown",
   "id": "61c2f0e2",
   "metadata": {},
   "source": [
    "# Modifying Date Column"
   ]
  },
  {
   "cell_type": "code",
   "execution_count": 68,
   "id": "2a81a6b5",
   "metadata": {},
   "outputs": [
    {
     "data": {
      "text/html": [
       "<div>\n",
       "<style scoped>\n",
       "    .dataframe tbody tr th:only-of-type {\n",
       "        vertical-align: middle;\n",
       "    }\n",
       "\n",
       "    .dataframe tbody tr th {\n",
       "        vertical-align: top;\n",
       "    }\n",
       "\n",
       "    .dataframe thead th {\n",
       "        text-align: right;\n",
       "    }\n",
       "</style>\n",
       "<table border=\"1\" class=\"dataframe\">\n",
       "  <thead>\n",
       "    <tr style=\"text-align: right;\">\n",
       "      <th></th>\n",
       "      <th>Member_number</th>\n",
       "      <th>Date</th>\n",
       "      <th>Item</th>\n",
       "      <th>Year</th>\n",
       "      <th>Month</th>\n",
       "      <th>Week Day</th>\n",
       "    </tr>\n",
       "  </thead>\n",
       "  <tbody>\n",
       "    <tr>\n",
       "      <th>0</th>\n",
       "      <td>1808</td>\n",
       "      <td>21-07-2015</td>\n",
       "      <td>Tropical fruit</td>\n",
       "      <td>2015</td>\n",
       "      <td>7</td>\n",
       "      <td>1</td>\n",
       "    </tr>\n",
       "    <tr>\n",
       "      <th>1</th>\n",
       "      <td>2552</td>\n",
       "      <td>05-01-2015</td>\n",
       "      <td>Whole milk</td>\n",
       "      <td>2015</td>\n",
       "      <td>5</td>\n",
       "      <td>4</td>\n",
       "    </tr>\n",
       "    <tr>\n",
       "      <th>2</th>\n",
       "      <td>2300</td>\n",
       "      <td>19-09-2015</td>\n",
       "      <td>Pip fruit</td>\n",
       "      <td>2015</td>\n",
       "      <td>9</td>\n",
       "      <td>5</td>\n",
       "    </tr>\n",
       "    <tr>\n",
       "      <th>3</th>\n",
       "      <td>1187</td>\n",
       "      <td>12-12-2015</td>\n",
       "      <td>Other vegetables</td>\n",
       "      <td>2015</td>\n",
       "      <td>12</td>\n",
       "      <td>5</td>\n",
       "    </tr>\n",
       "    <tr>\n",
       "      <th>4</th>\n",
       "      <td>3037</td>\n",
       "      <td>01-02-2015</td>\n",
       "      <td>Whole milk</td>\n",
       "      <td>2015</td>\n",
       "      <td>1</td>\n",
       "      <td>4</td>\n",
       "    </tr>\n",
       "  </tbody>\n",
       "</table>\n",
       "</div>"
      ],
      "text/plain": [
       "   Member_number        Date              Item  Year  Month  Week Day\n",
       "0           1808  21-07-2015    Tropical fruit  2015      7         1\n",
       "1           2552  05-01-2015        Whole milk  2015      5         4\n",
       "2           2300  19-09-2015         Pip fruit  2015      9         5\n",
       "3           1187  12-12-2015  Other vegetables  2015     12         5\n",
       "4           3037  01-02-2015        Whole milk  2015      1         4"
      ]
     },
     "execution_count": 68,
     "metadata": {},
     "output_type": "execute_result"
    }
   ],
   "source": [
    "df[\"Year\"]= pd.to_datetime(df[\"Date\"]).dt.year\n",
    "df[\"Month\"] = pd.to_datetime(df[\"Date\"]).dt.month\n",
    "df[\"Week Day\"] = pd.to_datetime(df[\"Date\"]).dt.weekday\n",
    "df.head()"
   ]
  },
  {
   "cell_type": "markdown",
   "id": "7a5acd0a",
   "metadata": {},
   "source": [
    "# Replacing Months and Days with names"
   ]
  },
  {
   "cell_type": "code",
   "execution_count": 69,
   "id": "a572fbcb",
   "metadata": {},
   "outputs": [
    {
     "data": {
      "text/html": [
       "<div>\n",
       "<style scoped>\n",
       "    .dataframe tbody tr th:only-of-type {\n",
       "        vertical-align: middle;\n",
       "    }\n",
       "\n",
       "    .dataframe tbody tr th {\n",
       "        vertical-align: top;\n",
       "    }\n",
       "\n",
       "    .dataframe thead th {\n",
       "        text-align: right;\n",
       "    }\n",
       "</style>\n",
       "<table border=\"1\" class=\"dataframe\">\n",
       "  <thead>\n",
       "    <tr style=\"text-align: right;\">\n",
       "      <th></th>\n",
       "      <th>Member_number</th>\n",
       "      <th>Date</th>\n",
       "      <th>Item</th>\n",
       "      <th>Year</th>\n",
       "      <th>Month</th>\n",
       "      <th>Week Day</th>\n",
       "    </tr>\n",
       "  </thead>\n",
       "  <tbody>\n",
       "    <tr>\n",
       "      <th>0</th>\n",
       "      <td>1808</td>\n",
       "      <td>21-07-2015</td>\n",
       "      <td>Tropical fruit</td>\n",
       "      <td>2015</td>\n",
       "      <td>July</td>\n",
       "      <td>Tuesday</td>\n",
       "    </tr>\n",
       "    <tr>\n",
       "      <th>1</th>\n",
       "      <td>2552</td>\n",
       "      <td>05-01-2015</td>\n",
       "      <td>Whole milk</td>\n",
       "      <td>2015</td>\n",
       "      <td>May</td>\n",
       "      <td>Friday</td>\n",
       "    </tr>\n",
       "    <tr>\n",
       "      <th>2</th>\n",
       "      <td>2300</td>\n",
       "      <td>19-09-2015</td>\n",
       "      <td>Pip fruit</td>\n",
       "      <td>2015</td>\n",
       "      <td>September</td>\n",
       "      <td>Saturday</td>\n",
       "    </tr>\n",
       "    <tr>\n",
       "      <th>3</th>\n",
       "      <td>1187</td>\n",
       "      <td>12-12-2015</td>\n",
       "      <td>Other vegetables</td>\n",
       "      <td>2015</td>\n",
       "      <td>December</td>\n",
       "      <td>Saturday</td>\n",
       "    </tr>\n",
       "    <tr>\n",
       "      <th>4</th>\n",
       "      <td>3037</td>\n",
       "      <td>01-02-2015</td>\n",
       "      <td>Whole milk</td>\n",
       "      <td>2015</td>\n",
       "      <td>January</td>\n",
       "      <td>Friday</td>\n",
       "    </tr>\n",
       "  </tbody>\n",
       "</table>\n",
       "</div>"
      ],
      "text/plain": [
       "   Member_number        Date              Item  Year      Month  Week Day\n",
       "0           1808  21-07-2015    Tropical fruit  2015       July   Tuesday\n",
       "1           2552  05-01-2015        Whole milk  2015        May    Friday\n",
       "2           2300  19-09-2015         Pip fruit  2015  September  Saturday\n",
       "3           1187  12-12-2015  Other vegetables  2015   December  Saturday\n",
       "4           3037  01-02-2015        Whole milk  2015   January     Friday"
      ]
     },
     "execution_count": 69,
     "metadata": {},
     "output_type": "execute_result"
    }
   ],
   "source": [
    "df[\"Month\"] = df[\"Month\"].replace((1,2,3,4,5,6,7,8,9,10,11,12),('January ','February','March','April' ,'May' ,'June'  ,'July' ,'August','September','October','November','December'))\n",
    "df[\"Week Day\"] = df[\"Week Day\"].replace((0,1,2,3,4,5,6),('Monday','Tuesday','Wednesday','Thursday','Friday','Saturday','Sunday'))\n",
    "df.head()"
   ]
  },
  {
   "cell_type": "markdown",
   "id": "946940b5",
   "metadata": {},
   "source": [
    "# Total Products"
   ]
  },
  {
   "cell_type": "code",
   "execution_count": 70,
   "id": "3d134e2f",
   "metadata": {},
   "outputs": [
    {
     "name": "stdout",
     "output_type": "stream",
     "text": [
      "Total products: 167\n"
     ]
    }
   ],
   "source": [
    "all_products = df['Item'].unique()\n",
    "print(\"Total products: {}\".format(len(all_products)))"
   ]
  },
  {
   "cell_type": "markdown",
   "id": "36e0faa1",
   "metadata": {},
   "source": [
    "# Displaying Products"
   ]
  },
  {
   "cell_type": "code",
   "execution_count": 71,
   "id": "1e690ffb",
   "metadata": {},
   "outputs": [
    {
     "data": {
      "text/plain": [
       "Whole milk               2502\n",
       "Other vegetables         1898\n",
       "Rolls/buns               1716\n",
       "Soda                     1514\n",
       "Yogurt                   1334\n",
       "                         ... \n",
       "Rubbing alcohol             5\n",
       "Bags                        4\n",
       "Baby cosmetics              3\n",
       "Kitchen utensil             1\n",
       "Preservation products       1\n",
       "Name: Item, Length: 167, dtype: int64"
      ]
     },
     "execution_count": 71,
     "metadata": {},
     "output_type": "execute_result"
    }
   ],
   "source": [
    "df['Item'].value_counts()"
   ]
  },
  {
   "cell_type": "markdown",
   "id": "2d99baab",
   "metadata": {},
   "source": [
    "# Top Customer IDs"
   ]
  },
  {
   "cell_type": "code",
   "execution_count": 72,
   "id": "e54bce93",
   "metadata": {},
   "outputs": [
    {
     "data": {
      "text/plain": [
       "3180    36\n",
       "3737    33\n",
       "3050    33\n",
       "2051    33\n",
       "2625    31\n",
       "        ..\n",
       "2503     2\n",
       "3301     2\n",
       "1775     2\n",
       "3723     2\n",
       "2417     2\n",
       "Name: Member_number, Length: 3898, dtype: int64"
      ]
     },
     "execution_count": 72,
     "metadata": {},
     "output_type": "execute_result"
    }
   ],
   "source": [
    "df['Member_number'].value_counts()"
   ]
  },
  {
   "cell_type": "markdown",
   "id": "9d067097",
   "metadata": {},
   "source": [
    "# Top 15 frequently sold in the dataset"
   ]
  },
  {
   "cell_type": "code",
   "execution_count": 73,
   "id": "b772d636",
   "metadata": {},
   "outputs": [],
   "source": [
    "best_selling = df[\"Item\"].value_counts().reset_index(name='Quantity').head(15)\n",
    "best_selling.rename(columns={\"index\":\"Item\"},inplace=True)"
   ]
  },
  {
   "cell_type": "code",
   "execution_count": 74,
   "id": "576e767b",
   "metadata": {},
   "outputs": [
    {
     "data": {
      "image/png": "[encoded data removed]",
      "text/plain": [
       "<Figure size 1440x720 with 1 Axes>"
      ]
     },
     "metadata": {
      "needs_background": "light"
     },
     "output_type": "display_data"
    }
   ],
   "source": [
    "plt.figure(figsize=(20,10))\n",
    "colors=sns.color_palette('crest')\n",
    "ax=sns.barplot(x=\"Item\",y=\"Quantity\",data=best_selling,palette=colors)\n",
    "for i in ax.containers:\n",
    "    ax.bar_label(i)\n",
    "plt.title(\"15 best-selling products\")\n",
    "plt.show()"
   ]
  },
  {
   "cell_type": "markdown",
   "id": "f83583b6",
   "metadata": {},
   "source": [
    "# Total products sales by years"
   ]
  },
  {
   "cell_type": "code",
   "execution_count": 75,
   "id": "a9c81d86",
   "metadata": {},
   "outputs": [],
   "source": [
    "data_years = df.groupby(\"Year\")[\"Item\"].count().reset_index() "
   ]
  },
  {
   "cell_type": "code",
   "execution_count": 76,
   "id": "69d3d4a3",
   "metadata": {},
   "outputs": [
    {
     "data": {
      "image/png": "[encoded data removed]",
      "text/plain": [
       "<Figure size 936x360 with 2 Axes>"
      ]
     },
     "metadata": {
      "needs_background": "light"
     },
     "output_type": "display_data"
    }
   ],
   "source": [
    "d_years = data_years[\"Year\"].tolist()\n",
    "data_item = data_years[\"Item\"].tolist()\n",
    "plt.figure(figsize=(13,5))\n",
    "plt.subplot(1,2,1)\n",
    "explode=(0.1,0)\n",
    "colors=sns.color_palette('Paired')\n",
    "plt.pie(data_item,labels=d_years,autopct='%1.1f%%',explode=explode,colors=(\"#138D75\",\"#F8C471\"))\n",
    "plt.title('Sales by Years',size=13)\n",
    "### Bar chart\n",
    "plt.subplot(1,2,2)\n",
    "ax=sns.barplot(x=\"Year\",y=\"Item\",data=data_years,palette=(\"#512E5F\",\"#A9CCE3\"))\n",
    "for i in ax.containers:\n",
    "    ax.bar_label(i)\n",
    "plt.title('Sales by Years',size=13)    \n",
    "plt.show()"
   ]
  },
  {
   "cell_type": "markdown",
   "id": "a552f217",
   "metadata": {},
   "source": [
    "# Total products sale by months"
   ]
  },
  {
   "cell_type": "code",
   "execution_count": 77,
   "id": "e812f8a9",
   "metadata": {},
   "outputs": [],
   "source": [
    "per_month = df.groupby('Month')['Item'].count().reset_index()\n",
    "per_month.rename(columns={\"Item\":\"Quantity\"},inplace = True)"
   ]
  },
  {
   "cell_type": "code",
   "execution_count": 78,
   "id": "4c91b9c7",
   "metadata": {},
   "outputs": [
    {
     "data": {
      "image/png": "[encoded data removed]",
      "text/plain": [
       "<Figure size 1080x360 with 1 Axes>"
      ]
     },
     "metadata": {
      "needs_background": "light"
     },
     "output_type": "display_data"
    }
   ],
   "source": [
    "plt.figure(figsize=(15,5))\n",
    "colors=sns.color_palette(\"coolwarm\")\n",
    "ax=sns.barplot(x=\"Month\",y=\"Quantity\",data=per_month,palette=colors)\n",
    "for i in ax.containers:\n",
    "     ax.bar_label(i)\n",
    "plt.show()   "
   ]
  },
  {
   "cell_type": "markdown",
   "id": "ec9aa3d5",
   "metadata": {},
   "source": [
    "# Total product sales by week day"
   ]
  },
  {
   "cell_type": "code",
   "execution_count": 79,
   "id": "288d9ba0",
   "metadata": {},
   "outputs": [],
   "source": [
    "week_day = df.groupby('Week Day')['Item'].count().reset_index(name=\"Quantity\")"
   ]
  },
  {
   "cell_type": "code",
   "execution_count": 80,
   "id": "0256bbc3",
   "metadata": {},
   "outputs": [
    {
     "data": {
      "image/png": "[encoded data removed]",
      "text/plain": [
       "<Figure size 1080x360 with 1 Axes>"
      ]
     },
     "metadata": {
      "needs_background": "light"
     },
     "output_type": "display_data"
    }
   ],
   "source": [
    "plt.figure(figsize=(15,5))\n",
    "colors = sns.color_palette(\"Paired\")\n",
    "ax = sns.barplot(x = \"Week Day\",y = \"Quantity\",data = week_day,palette = colors)\n",
    "plt.title(\"Total product sales by Week Day\")\n",
    "for i in ax.containers:\n",
    "    ax.bar_label(i)\n",
    "plt.show() "
   ]
  },
  {
   "cell_type": "markdown",
   "id": "4635408a",
   "metadata": {},
   "source": [
    "# How many products were sold monthly?"
   ]
  },
  {
   "cell_type": "code",
   "execution_count": 81,
   "id": "d18ad904",
   "metadata": {},
   "outputs": [],
   "source": [
    "product_sales = df.groupby([\"Month\",\"Item\"])[\"Item\"].count().reset_index(name=\"Quantity\").sort_values([\"Month\",\"Quantity\"],ascending=False)"
   ]
  },
  {
   "cell_type": "code",
   "execution_count": 82,
   "id": "d490ab21",
   "metadata": {},
   "outputs": [
    {
     "data": {
      "image/png": "[encoded data removed]",
      "text/plain": [
       "<Figure size 2160x1296 with 12 Axes>"
      ]
     },
     "metadata": {
      "needs_background": "light"
     },
     "output_type": "display_data"
    }
   ],
   "source": [
    "product_sales = df.groupby([\"Month\",\"Item\"])[\"Item\"].count().reset_index(name=\"Quantity\").sort_values([\"Month\",\"Quantity\"],ascending=False)\n",
    "month_info = df[\"Month\"].unique()\n",
    "\n",
    "plt.figure(figsize=(30,18))\n",
    "colors = sns.color_palette('flare')\n",
    "for i,j in enumerate(month_info):\n",
    "    plt.subplot(4,3,i+1)\n",
    "    product_data = product_sales[product_sales[\"Month\"]==j].head(10)\n",
    "    ax = sns.barplot(x=\"Quantity\",y=\"Item\",data=product_data,palette=colors)\n",
    "    for i in ax.containers:\n",
    "        ax.bar_label(i)\n",
    "    plt.xlabel('')\n",
    "    plt.ylabel('')\n",
    "    plt.title('Sale for \"{}\"'.format(j))"
   ]
  },
  {
   "cell_type": "markdown",
   "id": "427ff1c3",
   "metadata": {},
   "source": [
    "# One-Hot representation of products purchased"
   ]
  },
  {
   "cell_type": "code",
   "execution_count": 83,
   "id": "f67a842c",
   "metadata": {},
   "outputs": [
    {
     "data": {
      "text/html": [
       "<div>\n",
       "<style scoped>\n",
       "    .dataframe tbody tr th:only-of-type {\n",
       "        vertical-align: middle;\n",
       "    }\n",
       "\n",
       "    .dataframe tbody tr th {\n",
       "        vertical-align: top;\n",
       "    }\n",
       "\n",
       "    .dataframe thead th {\n",
       "        text-align: right;\n",
       "    }\n",
       "</style>\n",
       "<table border=\"1\" class=\"dataframe\">\n",
       "  <thead>\n",
       "    <tr style=\"text-align: right;\">\n",
       "      <th></th>\n",
       "      <th>Member_number</th>\n",
       "      <th>Item</th>\n",
       "      <th>Quantity</th>\n",
       "    </tr>\n",
       "  </thead>\n",
       "  <tbody>\n",
       "    <tr>\n",
       "      <th>0</th>\n",
       "      <td>1000</td>\n",
       "      <td>Canned beer</td>\n",
       "      <td>1</td>\n",
       "    </tr>\n",
       "    <tr>\n",
       "      <th>1</th>\n",
       "      <td>1000</td>\n",
       "      <td>Hygiene articles</td>\n",
       "      <td>1</td>\n",
       "    </tr>\n",
       "    <tr>\n",
       "      <th>2</th>\n",
       "      <td>1000</td>\n",
       "      <td>Misc. beverages</td>\n",
       "      <td>1</td>\n",
       "    </tr>\n",
       "    <tr>\n",
       "      <th>3</th>\n",
       "      <td>1000</td>\n",
       "      <td>Pastry</td>\n",
       "      <td>1</td>\n",
       "    </tr>\n",
       "    <tr>\n",
       "      <th>4</th>\n",
       "      <td>1000</td>\n",
       "      <td>Pickled vegetables</td>\n",
       "      <td>1</td>\n",
       "    </tr>\n",
       "  </tbody>\n",
       "</table>\n",
       "</div>"
      ],
      "text/plain": [
       "   Member_number                Item  Quantity\n",
       "0           1000         Canned beer         1\n",
       "1           1000    Hygiene articles         1\n",
       "2           1000     Misc. beverages         1\n",
       "3           1000              Pastry         1\n",
       "4           1000  Pickled vegetables         1"
      ]
     },
     "execution_count": 83,
     "metadata": {},
     "output_type": "execute_result"
    }
   ],
   "source": [
    "data_quantity = df.groupby([\"Member_number\",\"Item\"])[\"Item\"].count().reset_index(name=\"Quantity\")\n",
    "data_quantity.head()"
   ]
  },
  {
   "cell_type": "code",
   "execution_count": 84,
   "id": "a9e435ae",
   "metadata": {},
   "outputs": [
    {
     "data": {
      "text/html": [
       "<div>\n",
       "<style scoped>\n",
       "    .dataframe tbody tr th:only-of-type {\n",
       "        vertical-align: middle;\n",
       "    }\n",
       "\n",
       "    .dataframe tbody tr th {\n",
       "        vertical-align: top;\n",
       "    }\n",
       "\n",
       "    .dataframe thead th {\n",
       "        text-align: right;\n",
       "    }\n",
       "</style>\n",
       "<table border=\"1\" class=\"dataframe\">\n",
       "  <thead>\n",
       "    <tr style=\"text-align: right;\">\n",
       "      <th>Item</th>\n",
       "      <th>Abrasive cleaner</th>\n",
       "      <th>Artif. sweetener</th>\n",
       "      <th>Baby cosmetics</th>\n",
       "      <th>Bags</th>\n",
       "      <th>Baking powder</th>\n",
       "      <th>Bathroom cleaner</th>\n",
       "      <th>Beef</th>\n",
       "      <th>Berries</th>\n",
       "      <th>Beverages</th>\n",
       "      <th>Bottled beer</th>\n",
       "      <th>...</th>\n",
       "      <th>Uht-milk</th>\n",
       "      <th>Vinegar</th>\n",
       "      <th>Waffles</th>\n",
       "      <th>Whipped/sour cream</th>\n",
       "      <th>Whisky</th>\n",
       "      <th>White bread</th>\n",
       "      <th>White wine</th>\n",
       "      <th>Whole milk</th>\n",
       "      <th>Yogurt</th>\n",
       "      <th>Zwieback</th>\n",
       "    </tr>\n",
       "    <tr>\n",
       "      <th>Member_number</th>\n",
       "      <th></th>\n",
       "      <th></th>\n",
       "      <th></th>\n",
       "      <th></th>\n",
       "      <th></th>\n",
       "      <th></th>\n",
       "      <th></th>\n",
       "      <th></th>\n",
       "      <th></th>\n",
       "      <th></th>\n",
       "      <th></th>\n",
       "      <th></th>\n",
       "      <th></th>\n",
       "      <th></th>\n",
       "      <th></th>\n",
       "      <th></th>\n",
       "      <th></th>\n",
       "      <th></th>\n",
       "      <th></th>\n",
       "      <th></th>\n",
       "      <th></th>\n",
       "    </tr>\n",
       "  </thead>\n",
       "  <tbody>\n",
       "    <tr>\n",
       "      <th>1000</th>\n",
       "      <td>0.0</td>\n",
       "      <td>0.0</td>\n",
       "      <td>0.0</td>\n",
       "      <td>0.0</td>\n",
       "      <td>0.0</td>\n",
       "      <td>0.0</td>\n",
       "      <td>0.0</td>\n",
       "      <td>0.0</td>\n",
       "      <td>0.0</td>\n",
       "      <td>0.0</td>\n",
       "      <td>...</td>\n",
       "      <td>0.0</td>\n",
       "      <td>0.0</td>\n",
       "      <td>0.0</td>\n",
       "      <td>0.0</td>\n",
       "      <td>0.0</td>\n",
       "      <td>0.0</td>\n",
       "      <td>0.0</td>\n",
       "      <td>2.0</td>\n",
       "      <td>1.0</td>\n",
       "      <td>0.0</td>\n",
       "    </tr>\n",
       "    <tr>\n",
       "      <th>1001</th>\n",
       "      <td>0.0</td>\n",
       "      <td>0.0</td>\n",
       "      <td>0.0</td>\n",
       "      <td>0.0</td>\n",
       "      <td>0.0</td>\n",
       "      <td>0.0</td>\n",
       "      <td>1.0</td>\n",
       "      <td>0.0</td>\n",
       "      <td>0.0</td>\n",
       "      <td>0.0</td>\n",
       "      <td>...</td>\n",
       "      <td>0.0</td>\n",
       "      <td>0.0</td>\n",
       "      <td>0.0</td>\n",
       "      <td>1.0</td>\n",
       "      <td>0.0</td>\n",
       "      <td>1.0</td>\n",
       "      <td>0.0</td>\n",
       "      <td>2.0</td>\n",
       "      <td>0.0</td>\n",
       "      <td>0.0</td>\n",
       "    </tr>\n",
       "    <tr>\n",
       "      <th>1002</th>\n",
       "      <td>0.0</td>\n",
       "      <td>0.0</td>\n",
       "      <td>0.0</td>\n",
       "      <td>0.0</td>\n",
       "      <td>0.0</td>\n",
       "      <td>0.0</td>\n",
       "      <td>0.0</td>\n",
       "      <td>0.0</td>\n",
       "      <td>0.0</td>\n",
       "      <td>0.0</td>\n",
       "      <td>...</td>\n",
       "      <td>0.0</td>\n",
       "      <td>0.0</td>\n",
       "      <td>0.0</td>\n",
       "      <td>0.0</td>\n",
       "      <td>0.0</td>\n",
       "      <td>0.0</td>\n",
       "      <td>0.0</td>\n",
       "      <td>1.0</td>\n",
       "      <td>0.0</td>\n",
       "      <td>0.0</td>\n",
       "    </tr>\n",
       "    <tr>\n",
       "      <th>1003</th>\n",
       "      <td>0.0</td>\n",
       "      <td>0.0</td>\n",
       "      <td>0.0</td>\n",
       "      <td>0.0</td>\n",
       "      <td>0.0</td>\n",
       "      <td>0.0</td>\n",
       "      <td>0.0</td>\n",
       "      <td>0.0</td>\n",
       "      <td>0.0</td>\n",
       "      <td>0.0</td>\n",
       "      <td>...</td>\n",
       "      <td>0.0</td>\n",
       "      <td>0.0</td>\n",
       "      <td>0.0</td>\n",
       "      <td>0.0</td>\n",
       "      <td>0.0</td>\n",
       "      <td>0.0</td>\n",
       "      <td>0.0</td>\n",
       "      <td>0.0</td>\n",
       "      <td>0.0</td>\n",
       "      <td>0.0</td>\n",
       "    </tr>\n",
       "    <tr>\n",
       "      <th>1004</th>\n",
       "      <td>0.0</td>\n",
       "      <td>0.0</td>\n",
       "      <td>0.0</td>\n",
       "      <td>0.0</td>\n",
       "      <td>0.0</td>\n",
       "      <td>0.0</td>\n",
       "      <td>0.0</td>\n",
       "      <td>0.0</td>\n",
       "      <td>0.0</td>\n",
       "      <td>0.0</td>\n",
       "      <td>...</td>\n",
       "      <td>0.0</td>\n",
       "      <td>0.0</td>\n",
       "      <td>0.0</td>\n",
       "      <td>0.0</td>\n",
       "      <td>0.0</td>\n",
       "      <td>0.0</td>\n",
       "      <td>0.0</td>\n",
       "      <td>3.0</td>\n",
       "      <td>0.0</td>\n",
       "      <td>0.0</td>\n",
       "    </tr>\n",
       "  </tbody>\n",
       "</table>\n",
       "<p>5 rows × 167 columns</p>\n",
       "</div>"
      ],
      "text/plain": [
       "Item           Abrasive cleaner  Artif. sweetener  Baby cosmetics  Bags  \\\n",
       "Member_number                                                             \n",
       "1000                        0.0               0.0             0.0   0.0   \n",
       "1001                        0.0               0.0             0.0   0.0   \n",
       "1002                        0.0               0.0             0.0   0.0   \n",
       "1003                        0.0               0.0             0.0   0.0   \n",
       "1004                        0.0               0.0             0.0   0.0   \n",
       "\n",
       "Item           Baking powder  Bathroom cleaner  Beef  Berries  Beverages  \\\n",
       "Member_number                                                              \n",
       "1000                     0.0               0.0   0.0      0.0        0.0   \n",
       "1001                     0.0               0.0   1.0      0.0        0.0   \n",
       "1002                     0.0               0.0   0.0      0.0        0.0   \n",
       "1003                     0.0               0.0   0.0      0.0        0.0   \n",
       "1004                     0.0               0.0   0.0      0.0        0.0   \n",
       "\n",
       "Item           Bottled beer  ...  Uht-milk  Vinegar  Waffles  \\\n",
       "Member_number                ...                               \n",
       "1000                    0.0  ...       0.0      0.0      0.0   \n",
       "1001                    0.0  ...       0.0      0.0      0.0   \n",
       "1002                    0.0  ...       0.0      0.0      0.0   \n",
       "1003                    0.0  ...       0.0      0.0      0.0   \n",
       "1004                    0.0  ...       0.0      0.0      0.0   \n",
       "\n",
       "Item           Whipped/sour cream  Whisky  White bread  White wine  \\\n",
       "Member_number                                                        \n",
       "1000                          0.0     0.0          0.0         0.0   \n",
       "1001                          1.0     0.0          1.0         0.0   \n",
       "1002                          0.0     0.0          0.0         0.0   \n",
       "1003                          0.0     0.0          0.0         0.0   \n",
       "1004                          0.0     0.0          0.0         0.0   \n",
       "\n",
       "Item           Whole milk  Yogurt  Zwieback  \n",
       "Member_number                                \n",
       "1000                  2.0     1.0       0.0  \n",
       "1001                  2.0     0.0       0.0  \n",
       "1002                  1.0     0.0       0.0  \n",
       "1003                  0.0     0.0       0.0  \n",
       "1004                  3.0     0.0       0.0  \n",
       "\n",
       "[5 rows x 167 columns]"
      ]
     },
     "execution_count": 84,
     "metadata": {},
     "output_type": "execute_result"
    }
   ],
   "source": [
    "data_pivot = data_quantity.pivot_table(index=\"Member_number\",columns=\"Item\",values=\"Quantity\",aggfunc=\"sum\").fillna(0)\n",
    "data_pivot.head()"
   ]
  },
  {
   "cell_type": "code",
   "execution_count": 85,
   "id": "f0bff33e",
   "metadata": {},
   "outputs": [
    {
     "data": {
      "text/html": [
       "<div>\n",
       "<style scoped>\n",
       "    .dataframe tbody tr th:only-of-type {\n",
       "        vertical-align: middle;\n",
       "    }\n",
       "\n",
       "    .dataframe tbody tr th {\n",
       "        vertical-align: top;\n",
       "    }\n",
       "\n",
       "    .dataframe thead th {\n",
       "        text-align: right;\n",
       "    }\n",
       "</style>\n",
       "<table border=\"1\" class=\"dataframe\">\n",
       "  <thead>\n",
       "    <tr style=\"text-align: right;\">\n",
       "      <th>Item</th>\n",
       "      <th>Abrasive cleaner</th>\n",
       "      <th>Artif. sweetener</th>\n",
       "      <th>Baby cosmetics</th>\n",
       "      <th>Bags</th>\n",
       "      <th>Baking powder</th>\n",
       "      <th>Bathroom cleaner</th>\n",
       "      <th>Beef</th>\n",
       "      <th>Berries</th>\n",
       "      <th>Beverages</th>\n",
       "      <th>Bottled beer</th>\n",
       "      <th>...</th>\n",
       "      <th>Uht-milk</th>\n",
       "      <th>Vinegar</th>\n",
       "      <th>Waffles</th>\n",
       "      <th>Whipped/sour cream</th>\n",
       "      <th>Whisky</th>\n",
       "      <th>White bread</th>\n",
       "      <th>White wine</th>\n",
       "      <th>Whole milk</th>\n",
       "      <th>Yogurt</th>\n",
       "      <th>Zwieback</th>\n",
       "    </tr>\n",
       "    <tr>\n",
       "      <th>Member_number</th>\n",
       "      <th></th>\n",
       "      <th></th>\n",
       "      <th></th>\n",
       "      <th></th>\n",
       "      <th></th>\n",
       "      <th></th>\n",
       "      <th></th>\n",
       "      <th></th>\n",
       "      <th></th>\n",
       "      <th></th>\n",
       "      <th></th>\n",
       "      <th></th>\n",
       "      <th></th>\n",
       "      <th></th>\n",
       "      <th></th>\n",
       "      <th></th>\n",
       "      <th></th>\n",
       "      <th></th>\n",
       "      <th></th>\n",
       "      <th></th>\n",
       "      <th></th>\n",
       "    </tr>\n",
       "  </thead>\n",
       "  <tbody>\n",
       "    <tr>\n",
       "      <th>1000</th>\n",
       "      <td>0</td>\n",
       "      <td>0</td>\n",
       "      <td>0</td>\n",
       "      <td>0</td>\n",
       "      <td>0</td>\n",
       "      <td>0</td>\n",
       "      <td>0</td>\n",
       "      <td>0</td>\n",
       "      <td>0</td>\n",
       "      <td>0</td>\n",
       "      <td>...</td>\n",
       "      <td>0</td>\n",
       "      <td>0</td>\n",
       "      <td>0</td>\n",
       "      <td>0</td>\n",
       "      <td>0</td>\n",
       "      <td>0</td>\n",
       "      <td>0</td>\n",
       "      <td>1</td>\n",
       "      <td>1</td>\n",
       "      <td>0</td>\n",
       "    </tr>\n",
       "    <tr>\n",
       "      <th>1001</th>\n",
       "      <td>0</td>\n",
       "      <td>0</td>\n",
       "      <td>0</td>\n",
       "      <td>0</td>\n",
       "      <td>0</td>\n",
       "      <td>0</td>\n",
       "      <td>1</td>\n",
       "      <td>0</td>\n",
       "      <td>0</td>\n",
       "      <td>0</td>\n",
       "      <td>...</td>\n",
       "      <td>0</td>\n",
       "      <td>0</td>\n",
       "      <td>0</td>\n",
       "      <td>1</td>\n",
       "      <td>0</td>\n",
       "      <td>1</td>\n",
       "      <td>0</td>\n",
       "      <td>1</td>\n",
       "      <td>0</td>\n",
       "      <td>0</td>\n",
       "    </tr>\n",
       "    <tr>\n",
       "      <th>1002</th>\n",
       "      <td>0</td>\n",
       "      <td>0</td>\n",
       "      <td>0</td>\n",
       "      <td>0</td>\n",
       "      <td>0</td>\n",
       "      <td>0</td>\n",
       "      <td>0</td>\n",
       "      <td>0</td>\n",
       "      <td>0</td>\n",
       "      <td>0</td>\n",
       "      <td>...</td>\n",
       "      <td>0</td>\n",
       "      <td>0</td>\n",
       "      <td>0</td>\n",
       "      <td>0</td>\n",
       "      <td>0</td>\n",
       "      <td>0</td>\n",
       "      <td>0</td>\n",
       "      <td>1</td>\n",
       "      <td>0</td>\n",
       "      <td>0</td>\n",
       "    </tr>\n",
       "    <tr>\n",
       "      <th>1003</th>\n",
       "      <td>0</td>\n",
       "      <td>0</td>\n",
       "      <td>0</td>\n",
       "      <td>0</td>\n",
       "      <td>0</td>\n",
       "      <td>0</td>\n",
       "      <td>0</td>\n",
       "      <td>0</td>\n",
       "      <td>0</td>\n",
       "      <td>0</td>\n",
       "      <td>...</td>\n",
       "      <td>0</td>\n",
       "      <td>0</td>\n",
       "      <td>0</td>\n",
       "      <td>0</td>\n",
       "      <td>0</td>\n",
       "      <td>0</td>\n",
       "      <td>0</td>\n",
       "      <td>0</td>\n",
       "      <td>0</td>\n",
       "      <td>0</td>\n",
       "    </tr>\n",
       "    <tr>\n",
       "      <th>1004</th>\n",
       "      <td>0</td>\n",
       "      <td>0</td>\n",
       "      <td>0</td>\n",
       "      <td>0</td>\n",
       "      <td>0</td>\n",
       "      <td>0</td>\n",
       "      <td>0</td>\n",
       "      <td>0</td>\n",
       "      <td>0</td>\n",
       "      <td>0</td>\n",
       "      <td>...</td>\n",
       "      <td>0</td>\n",
       "      <td>0</td>\n",
       "      <td>0</td>\n",
       "      <td>0</td>\n",
       "      <td>0</td>\n",
       "      <td>0</td>\n",
       "      <td>0</td>\n",
       "      <td>1</td>\n",
       "      <td>0</td>\n",
       "      <td>0</td>\n",
       "    </tr>\n",
       "  </tbody>\n",
       "</table>\n",
       "<p>5 rows × 167 columns</p>\n",
       "</div>"
      ],
      "text/plain": [
       "Item           Abrasive cleaner  Artif. sweetener  Baby cosmetics  Bags  \\\n",
       "Member_number                                                             \n",
       "1000                          0                 0               0     0   \n",
       "1001                          0                 0               0     0   \n",
       "1002                          0                 0               0     0   \n",
       "1003                          0                 0               0     0   \n",
       "1004                          0                 0               0     0   \n",
       "\n",
       "Item           Baking powder  Bathroom cleaner  Beef  Berries  Beverages  \\\n",
       "Member_number                                                              \n",
       "1000                       0                 0     0        0          0   \n",
       "1001                       0                 0     1        0          0   \n",
       "1002                       0                 0     0        0          0   \n",
       "1003                       0                 0     0        0          0   \n",
       "1004                       0                 0     0        0          0   \n",
       "\n",
       "Item           Bottled beer  ...  Uht-milk  Vinegar  Waffles  \\\n",
       "Member_number                ...                               \n",
       "1000                      0  ...         0        0        0   \n",
       "1001                      0  ...         0        0        0   \n",
       "1002                      0  ...         0        0        0   \n",
       "1003                      0  ...         0        0        0   \n",
       "1004                      0  ...         0        0        0   \n",
       "\n",
       "Item           Whipped/sour cream  Whisky  White bread  White wine  \\\n",
       "Member_number                                                        \n",
       "1000                            0       0            0           0   \n",
       "1001                            1       0            1           0   \n",
       "1002                            0       0            0           0   \n",
       "1003                            0       0            0           0   \n",
       "1004                            0       0            0           0   \n",
       "\n",
       "Item           Whole milk  Yogurt  Zwieback  \n",
       "Member_number                                \n",
       "1000                    1       1         0  \n",
       "1001                    1       0         0  \n",
       "1002                    1       0         0  \n",
       "1003                    0       0         0  \n",
       "1004                    1       0         0  \n",
       "\n",
       "[5 rows x 167 columns]"
      ]
     },
     "execution_count": 85,
     "metadata": {},
     "output_type": "execute_result"
    }
   ],
   "source": [
    "def func(piv):\n",
    "    if piv <=0:\n",
    "        return 0\n",
    "    if piv >=1:\n",
    "        return 1\n",
    "data_pivot = data_pivot.applymap(func)\n",
    "data_pivot.head()"
   ]
  },
  {
   "cell_type": "markdown",
   "id": "78def60d",
   "metadata": {},
   "source": [
    "# Association Rules"
   ]
  },
  {
   "cell_type": "code",
   "execution_count": 87,
   "id": "4bc0d272",
   "metadata": {},
   "outputs": [
    {
     "name": "stderr",
     "output_type": "stream",
     "text": [
      "/opt/anaconda3/lib/python3.9/site-packages/mlxtend/frequent_patterns/fpcommon.py:111: DeprecationWarning: DataFrames with non-bool types result in worse computationalperformance and their support might be discontinued in the future.Please use a DataFrame with bool type\n",
      "  warnings.warn(\n"
     ]
    },
    {
     "data": {
      "text/html": [
       "<div>\n",
       "<style scoped>\n",
       "    .dataframe tbody tr th:only-of-type {\n",
       "        vertical-align: middle;\n",
       "    }\n",
       "\n",
       "    .dataframe tbody tr th {\n",
       "        vertical-align: top;\n",
       "    }\n",
       "\n",
       "    .dataframe thead th {\n",
       "        text-align: right;\n",
       "    }\n",
       "</style>\n",
       "<table border=\"1\" class=\"dataframe\">\n",
       "  <thead>\n",
       "    <tr style=\"text-align: right;\">\n",
       "      <th></th>\n",
       "      <th>support</th>\n",
       "      <th>itemsets</th>\n",
       "    </tr>\n",
       "  </thead>\n",
       "  <tbody>\n",
       "    <tr>\n",
       "      <th>0</th>\n",
       "      <td>0.031042</td>\n",
       "      <td>(Baking powder)</td>\n",
       "    </tr>\n",
       "    <tr>\n",
       "      <th>1</th>\n",
       "      <td>0.119548</td>\n",
       "      <td>(Beef)</td>\n",
       "    </tr>\n",
       "    <tr>\n",
       "      <th>2</th>\n",
       "      <td>0.079785</td>\n",
       "      <td>(Berries)</td>\n",
       "    </tr>\n",
       "    <tr>\n",
       "      <th>3</th>\n",
       "      <td>0.062083</td>\n",
       "      <td>(Beverages)</td>\n",
       "    </tr>\n",
       "    <tr>\n",
       "      <th>4</th>\n",
       "      <td>0.158799</td>\n",
       "      <td>(Bottled beer)</td>\n",
       "    </tr>\n",
       "  </tbody>\n",
       "</table>\n",
       "</div>"
      ],
      "text/plain": [
       "    support         itemsets\n",
       "0  0.031042  (Baking powder)\n",
       "1  0.119548           (Beef)\n",
       "2  0.079785        (Berries)\n",
       "3  0.062083      (Beverages)\n",
       "4  0.158799   (Bottled beer)"
      ]
     },
     "execution_count": 87,
     "metadata": {},
     "output_type": "execute_result"
    }
   ],
   "source": [
    "apriori_data = apriori(data_pivot,min_support=0.01,use_colnames=True)\n",
    "apriori_data.head()"
   ]
  },
  {
   "cell_type": "code",
   "execution_count": 92,
   "id": "9ec2192b",
   "metadata": {},
   "outputs": [
    {
     "data": {
      "text/html": [
       "<div>\n",
       "<style scoped>\n",
       "    .dataframe tbody tr th:only-of-type {\n",
       "        vertical-align: middle;\n",
       "    }\n",
       "\n",
       "    .dataframe tbody tr th {\n",
       "        vertical-align: top;\n",
       "    }\n",
       "\n",
       "    .dataframe thead th {\n",
       "        text-align: right;\n",
       "    }\n",
       "</style>\n",
       "<table border=\"1\" class=\"dataframe\">\n",
       "  <thead>\n",
       "    <tr style=\"text-align: right;\">\n",
       "      <th></th>\n",
       "      <th>antecedents</th>\n",
       "      <th>consequents</th>\n",
       "      <th>antecedent support</th>\n",
       "      <th>consequent support</th>\n",
       "      <th>support</th>\n",
       "      <th>confidence</th>\n",
       "      <th>lift</th>\n",
       "      <th>leverage</th>\n",
       "      <th>conviction</th>\n",
       "    </tr>\n",
       "  </thead>\n",
       "  <tbody>\n",
       "    <tr>\n",
       "      <th>0</th>\n",
       "      <td>(Baking powder)</td>\n",
       "      <td>(Other vegetables)</td>\n",
       "      <td>0.031042</td>\n",
       "      <td>0.376603</td>\n",
       "      <td>0.015136</td>\n",
       "      <td>0.487603</td>\n",
       "      <td>1.294740</td>\n",
       "      <td>0.003446</td>\n",
       "      <td>1.216629</td>\n",
       "    </tr>\n",
       "    <tr>\n",
       "      <th>1</th>\n",
       "      <td>(Other vegetables)</td>\n",
       "      <td>(Baking powder)</td>\n",
       "      <td>0.376603</td>\n",
       "      <td>0.031042</td>\n",
       "      <td>0.015136</td>\n",
       "      <td>0.040191</td>\n",
       "      <td>1.294740</td>\n",
       "      <td>0.003446</td>\n",
       "      <td>1.009532</td>\n",
       "    </tr>\n",
       "    <tr>\n",
       "      <th>2</th>\n",
       "      <td>(Baking powder)</td>\n",
       "      <td>(Rolls/buns)</td>\n",
       "      <td>0.031042</td>\n",
       "      <td>0.349666</td>\n",
       "      <td>0.012314</td>\n",
       "      <td>0.396694</td>\n",
       "      <td>1.134493</td>\n",
       "      <td>0.001460</td>\n",
       "      <td>1.077950</td>\n",
       "    </tr>\n",
       "    <tr>\n",
       "      <th>3</th>\n",
       "      <td>(Rolls/buns)</td>\n",
       "      <td>(Baking powder)</td>\n",
       "      <td>0.349666</td>\n",
       "      <td>0.031042</td>\n",
       "      <td>0.012314</td>\n",
       "      <td>0.035216</td>\n",
       "      <td>1.134493</td>\n",
       "      <td>0.001460</td>\n",
       "      <td>1.004327</td>\n",
       "    </tr>\n",
       "    <tr>\n",
       "      <th>4</th>\n",
       "      <td>(Soda)</td>\n",
       "      <td>(Baking powder)</td>\n",
       "      <td>0.313494</td>\n",
       "      <td>0.031042</td>\n",
       "      <td>0.012314</td>\n",
       "      <td>0.039280</td>\n",
       "      <td>1.265396</td>\n",
       "      <td>0.002583</td>\n",
       "      <td>1.008575</td>\n",
       "    </tr>\n",
       "    <tr>\n",
       "      <th>...</th>\n",
       "      <td>...</td>\n",
       "      <td>...</td>\n",
       "      <td>...</td>\n",
       "      <td>...</td>\n",
       "      <td>...</td>\n",
       "      <td>...</td>\n",
       "      <td>...</td>\n",
       "      <td>...</td>\n",
       "      <td>...</td>\n",
       "    </tr>\n",
       "    <tr>\n",
       "      <th>95</th>\n",
       "      <td>(Berries)</td>\n",
       "      <td>(Fruit/vegetable juice)</td>\n",
       "      <td>0.079785</td>\n",
       "      <td>0.124936</td>\n",
       "      <td>0.015649</td>\n",
       "      <td>0.196141</td>\n",
       "      <td>1.569937</td>\n",
       "      <td>0.005681</td>\n",
       "      <td>1.088580</td>\n",
       "    </tr>\n",
       "    <tr>\n",
       "      <th>96</th>\n",
       "      <td>(Newspapers)</td>\n",
       "      <td>(Berries)</td>\n",
       "      <td>0.139815</td>\n",
       "      <td>0.079785</td>\n",
       "      <td>0.013340</td>\n",
       "      <td>0.095413</td>\n",
       "      <td>1.195882</td>\n",
       "      <td>0.002185</td>\n",
       "      <td>1.017277</td>\n",
       "    </tr>\n",
       "    <tr>\n",
       "      <th>97</th>\n",
       "      <td>(Berries)</td>\n",
       "      <td>(Newspapers)</td>\n",
       "      <td>0.079785</td>\n",
       "      <td>0.139815</td>\n",
       "      <td>0.013340</td>\n",
       "      <td>0.167203</td>\n",
       "      <td>1.195882</td>\n",
       "      <td>0.002185</td>\n",
       "      <td>1.032886</td>\n",
       "    </tr>\n",
       "    <tr>\n",
       "      <th>98</th>\n",
       "      <td>(Berries)</td>\n",
       "      <td>(Other vegetables)</td>\n",
       "      <td>0.079785</td>\n",
       "      <td>0.376603</td>\n",
       "      <td>0.036942</td>\n",
       "      <td>0.463023</td>\n",
       "      <td>1.229470</td>\n",
       "      <td>0.006895</td>\n",
       "      <td>1.160936</td>\n",
       "    </tr>\n",
       "    <tr>\n",
       "      <th>99</th>\n",
       "      <td>(Other vegetables)</td>\n",
       "      <td>(Berries)</td>\n",
       "      <td>0.376603</td>\n",
       "      <td>0.079785</td>\n",
       "      <td>0.036942</td>\n",
       "      <td>0.098093</td>\n",
       "      <td>1.229470</td>\n",
       "      <td>0.006895</td>\n",
       "      <td>1.020299</td>\n",
       "    </tr>\n",
       "  </tbody>\n",
       "</table>\n",
       "<p>100 rows × 9 columns</p>\n",
       "</div>"
      ],
      "text/plain": [
       "           antecedents              consequents  antecedent support  \\\n",
       "0      (Baking powder)       (Other vegetables)            0.031042   \n",
       "1   (Other vegetables)          (Baking powder)            0.376603   \n",
       "2      (Baking powder)             (Rolls/buns)            0.031042   \n",
       "3         (Rolls/buns)          (Baking powder)            0.349666   \n",
       "4               (Soda)          (Baking powder)            0.313494   \n",
       "..                 ...                      ...                 ...   \n",
       "95           (Berries)  (Fruit/vegetable juice)            0.079785   \n",
       "96        (Newspapers)                (Berries)            0.139815   \n",
       "97           (Berries)             (Newspapers)            0.079785   \n",
       "98           (Berries)       (Other vegetables)            0.079785   \n",
       "99  (Other vegetables)                (Berries)            0.376603   \n",
       "\n",
       "    consequent support   support  confidence      lift  leverage  conviction  \n",
       "0             0.376603  0.015136    0.487603  1.294740  0.003446    1.216629  \n",
       "1             0.031042  0.015136    0.040191  1.294740  0.003446    1.009532  \n",
       "2             0.349666  0.012314    0.396694  1.134493  0.001460    1.077950  \n",
       "3             0.031042  0.012314    0.035216  1.134493  0.001460    1.004327  \n",
       "4             0.031042  0.012314    0.039280  1.265396  0.002583    1.008575  \n",
       "..                 ...       ...         ...       ...       ...         ...  \n",
       "95            0.124936  0.015649    0.196141  1.569937  0.005681    1.088580  \n",
       "96            0.079785  0.013340    0.095413  1.195882  0.002185    1.017277  \n",
       "97            0.139815  0.013340    0.167203  1.195882  0.002185    1.032886  \n",
       "98            0.376603  0.036942    0.463023  1.229470  0.006895    1.160936  \n",
       "99            0.079785  0.036942    0.098093  1.229470  0.006895    1.020299  \n",
       "\n",
       "[100 rows x 9 columns]"
      ]
     },
     "execution_count": 92,
     "metadata": {},
     "output_type": "execute_result"
    }
   ],
   "source": [
    "rules = association_rules(apriori_data,metric=\"lift\",min_threshold=1)\n",
    "rules.head(100)"
   ]
  }
 ],
 "metadata": {
  "kernelspec": {
   "display_name": "Python 3 (ipykernel)",
   "language": "python",
   "name": "python3"
  },
  "language_info": {
   "codemirror_mode": {
    "name": "ipython",
    "version": 3
   },
   "file_extension": ".py",
   "mimetype": "text/x-python",
   "name": "python",
   "nbconvert_exporter": "python",
   "pygments_lexer": "ipython3",
   "version": "3.9.7"
  }
 },
 "nbformat": 4,
 "nbformat_minor": 5
}
